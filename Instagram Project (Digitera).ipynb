  {
   "cell_type": "code",
   "execution_count": null,
   "metadata": {},
   "outputs": [],
   "source": [
    "# import dependencies\n",
    "import os\n",
    "import re\n",
    "import json\n",
    "import time\n",
    "import requests\n",
    "import pandas as pd, numpy as np\n",
    "from selenium import webdriver\n",
    "from bs4 import BeautifulSoup as bs\n",
    "from urllib.request import urlopen\n",
    "from pandas.io.json import json_normalize"
   ]
  },
  {
   "cell_type": "code",
   "execution_count": null,
   "metadata": {},
   "outputs": [],
   "source": [
    "# open web browser to tag feed\n",
    "hashtag = input(\"#\")\n",
    "browser = webdriver.Chrome(r'C:\\Users\\CommTech\\PycharmProjects\\Work Projects\\chromedriver.exe')\n",
    "browser.get('https://www.instagram.com/explore/tags/'+hashtag)\n",
    "page_length = browser.execute_script(\"window.scrollTo(0, document.body.scrollHeight);\")\n",
    "\n",
    "# parse HTML source page\n",
    "page_length = browser.execute_script(\"window.scrollTo(0, document.body.scrollHeight/1.5);\")\n",
    "links = []\n",
    "source = browser.page_source\n",
    "data = bs(source, 'html.parser')\n",
    "body = data.find('body')\n",
    "script = body.find('span')\n",
    "for link in script.findAll('a'):\n",
    "    if re.match(\"/p\", link.get('href')):\n",
    "        links.append('https://www.instagram.com'+link.get('href'))\n",
    "\n",
    "time.sleep(5) # sleep time is required, otherwise Instagram may interrupt the script and won't scroll through pages\n",
    "\n",
    "page_length = browser.execute_script(\"window.scrollTo(0, document.body.scrollHeight/1.5, document.body.scrollHeight/3.0);\")\n",
    "source = browser.page_source\n",
    "data = bs(source, 'html.parser')\n",
    "body = data.find('body')\n",
    "script = body.find('span')\n",
    "for link in script.findAll('a'):\n",
    "    if re.match(\"/p\", link.get('href')):\n",
    "        links.append('https://www.instagram.com'+link.get('href'))\n",
    "\n",
    "# get information for each image/post in the page\n",
    "result = pd.DataFrame()\n",
    "for i in range(len(links)):\n",
    "    try:\n",
    "        page = urlopen(links[i]).read()\n",
    "        data = bs(page, 'html.parser')\n",
    "        body = data.find('body')\n",
    "        script = body.find('script')\n",
    "        raw = script.text.strip().replace('window._sharedData =', '').replace(';', '')\n",
    "        json_data = json.loads(raw)\n",
    "        posts = json_data['entry_data']['PostPage'][0]['graphql']\n",
    "        posts = json.dumps(posts)\n",
    "        posts = json.loads(posts)\n",
    "        x = pd.DataFrame.from_dict(json_normalize(posts), orient = 'columns')\n",
    "        x_columns = x.columns.str.replace(\"shortcode_media.\", \"\")\n",
    "        result = result.append(x)\n",
    "    except:\n",
    "        np.nan\n",
    "\n",
    "sort=True"
   ]
  }
 ],
 "metadata": {
  "kernelspec": {
   "display_name": "Python 3",
   "language": "python",
   "name": "python3"
  },
  "language_info": {
   "codemirror_mode": {
    "name": "ipython",
    "version": 3
   },
   "file_extension": ".py",
   "mimetype": "text/x-python",
   "name": "python",
   "nbconvert_exporter": "python",
   "pygments_lexer": "ipython3",
   "version": "3.7.3"
  }
 },
 "nbformat": 4,
 "nbformat_minor": 2
}
